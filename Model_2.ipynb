{
 "cells": [
  {
   "cell_type": "code",
   "execution_count": 1,
   "id": "ab0771ef",
   "metadata": {},
   "outputs": [],
   "source": [
    "#IMPORT MODULES\n",
    "import pandas as pd\n",
    "import numpy as np\n",
    "import time\n",
    "# SENTIMENT ANALYSIS USING VADER\n",
    "from sklearn.model_selection import train_test_split, cross_val_score\n",
    "from sklearn.metrics import accuracy_score, precision_score, f1_score, roc_auc_score, precision_score, recall_score, classification_report\n",
    "from sklearn.preprocessing import StandardScaler, MinMaxScaler, LabelEncoder\n",
    "from sklearn.svm import LinearSVC, SVC\n",
    "from sklearn.naive_bayes import BernoulliNB, MultinomialNB\n",
    "from sklearn.linear_model import LinearRegression, Ridge, Lasso\n",
    "from sklearn.tree import DecisionTreeRegressor\n",
    "from sklearn.ensemble import RandomForestRegressor\n",
    "from xgboost import XGBRegressor\n",
    "from lightgbm import LGBMRegressor\n",
    "from catboost import CatBoostRegressor\n",
    "from sklearn.metrics import mean_squared_error, r2_score\n",
    "from sklearn.metrics import mean_absolute_error, mean_squared_error, r2_score\n"
   ]
  },
  {
   "cell_type": "code",
   "execution_count": 2,
   "id": "29e1a2f5",
   "metadata": {},
   "outputs": [],
   "source": [
    "columns = [\n",
    "    \"EdLevel\",\n",
    "    \"Country\",\n",
    "    \"AIBen\",\n",
    "    \"WorkExp\",\n",
    "    \"PurchaseInfluence\",\n",
    "    \"YearsCode\",\n",
    "    \"YearsCodePro\",\n",
    "    \"Industry\",\n",
    "    \"DevType\",\n",
    "    \"OrgSize\",\n",
    "    \"RemoteWork\",\n",
    "    \"ConvertedCompYearly\"\n",
    "]"
   ]
  },
  {
   "cell_type": "code",
   "execution_count": 3,
   "id": "50d0682c",
   "metadata": {},
   "outputs": [],
   "source": [
    "def shorten_categories(categories, cutoff):\n",
    "    categorical_map = {}\n",
    "    for i in range(len(categories)):\n",
    "        if categories.values[i] >= cutoff:\n",
    "            categorical_map[categories.index[i]] = categories.index[i]\n",
    "        else:\n",
    "            categorical_map[categories.index[i]] = 'Other'\n",
    "    return categorical_map"
   ]
  },
  {
   "cell_type": "code",
   "execution_count": 4,
   "id": "ce02adbf",
   "metadata": {},
   "outputs": [],
   "source": [
    "df1 = pd.read_csv(\"Datasets/survey_results_public.csv\")\n",
    "\n",
    "df1 = df1[df1[\"ConvertedCompYearly\"].notnull()]\n",
    "df1 = df1[columns]\n",
    "df1 = df1.dropna()\n",
    "country_map = shorten_categories(df1.Country.value_counts(), 400)\n",
    "df1['Country'] = df1['Country'].map(country_map)\n",
    "# currency_map = shorten_categories(df1.Currency.value_counts(), 400)\n",
    "# df1[\"Currency\"] = df1[\"Currency\"].map(currency_map)"
   ]
  },
  {
   "cell_type": "code",
   "execution_count": 79,
   "id": "49e47ecd",
   "metadata": {},
   "outputs": [
    {
     "data": {
      "text/plain": [
       "74351432.0"
      ]
     },
     "execution_count": 79,
     "metadata": {},
     "output_type": "execute_result"
    }
   ],
   "source": [
    "max(df1[\"ConvertedCompYearly\"])"
   ]
  },
  {
   "cell_type": "code",
   "execution_count": 68,
   "id": "f45fc047",
   "metadata": {},
   "outputs": [],
   "source": [
    "df1 = df1[df1[\"ConvertedCompYearly\"] <= 250000]\n",
    "df1 = df1[df1[\"ConvertedCompYearly\"] >= 100]\n",
    "df1 = df1[df1['Country'] != 'Other']"
   ]
  },
  {
   "cell_type": "code",
   "execution_count": 8,
   "id": "a4d9562d",
   "metadata": {},
   "outputs": [],
   "source": [
    "df1.to_csv(\"Filtered Dataset.csv\")"
   ]
  },
  {
   "cell_type": "code",
   "execution_count": 5,
   "id": "6596b710",
   "metadata": {},
   "outputs": [],
   "source": [
    "df_LE = df1\n",
    "for i in columns:\n",
    "    if i == \"ConvertedCompYearly\":\n",
    "        continue\n",
    "    le = LabelEncoder()\n",
    "    df_LE[i] = le.fit_transform(df_LE[i])"
   ]
  },
  {
   "cell_type": "code",
   "execution_count": 6,
   "id": "23c3c695",
   "metadata": {},
   "outputs": [],
   "source": [
    "X = df_LE[[\n",
    "    \"EdLevel\",\n",
    "    \"Country\",\n",
    "    \"AIBen\",\n",
    "    \"WorkExp\",\n",
    "    \"PurchaseInfluence\",\n",
    "    \"YearsCode\",\n",
    "    \"YearsCodePro\",\n",
    "    \"Industry\",\n",
    "    \"DevType\",\n",
    "    \"OrgSize\",\n",
    "    \"RemoteWork\"\n",
    "]]\n",
    "\n",
    "Y = df_LE[\"ConvertedCompYearly\"]"
   ]
  },
  {
   "cell_type": "code",
   "execution_count": 7,
   "id": "2c6bf47f",
   "metadata": {},
   "outputs": [],
   "source": [
    "X_train, X_test, y_train, y_test = train_test_split(\n",
    "    X, Y, test_size=0.1, random_state=42)"
   ]
  },
  {
   "cell_type": "code",
   "execution_count": 83,
   "id": "fb2a6ed3",
   "metadata": {},
   "outputs": [],
   "source": [
    "scaler = StandardScaler()\n",
    "X_train_scaled = scaler.fit_transform(X_train)\n",
    "X_test_scaled = scaler.transform(X_test)"
   ]
  },
  {
   "cell_type": "code",
   "execution_count": 10,
   "id": "6279ddf3",
   "metadata": {},
   "outputs": [],
   "source": [
    "X_train_scaled = X_train\n",
    "X_test_scaled = X_test"
   ]
  },
  {
   "cell_type": "code",
   "execution_count": 11,
   "id": "5ed480fc",
   "metadata": {},
   "outputs": [],
   "source": [
    "classifiers = {}\n",
    "\n",
    "# Linear Regression\n",
    "classifiers[\"LinearRegression\"] = LinearRegression()\n",
    "\n",
    "# Decision Tree\n",
    "classifiers[\"DecisionTree\"] = DecisionTreeRegressor()\n",
    "\n",
    "# Random Forest\n",
    "classifiers[\"RandomForest\"] = RandomForestRegressor()\n",
    "\n",
    "# XGBoost\n",
    "classifiers[\"XGBoost\"] = XGBRegressor()\n",
    "\n",
    "# # LightGBM\n",
    "classifiers[\"LightGBM\"] = LGBMRegressor()\n",
    "\n",
    "# # CatBoost\n",
    "# classifiers[\"CatBoost\"] = CatBoostRegressor(silent=True)"
   ]
  },
  {
   "cell_type": "code",
   "execution_count": null,
   "id": "0817d81c",
   "metadata": {},
   "outputs": [],
   "source": [
    "# Create an empty DataFrame to store the results\n",
    "columns = ['Model', 'Run Time (minutes)', 'MAE', 'MSE', 'RMSE', 'R2']\n",
    "df_models = pd.DataFrame(columns=columns)\n",
    "\n",
    "# Loop through your regression models\n",
    "for key, clf in classifiers.items():\n",
    "    # STARTING TIME\n",
    "    start_time = time.time()\n",
    "    # TRAIN CLASSIFIER ON TRAINING DATA\n",
    "    clf.fit(X_train_scaled, y_train)\n",
    "    # MAKE PREDICTIONS USING CURRENT CLASSIFIER\n",
    "    predictions = clf.predict(X_test_scaled)\n",
    "    # CALCULATE REGRESSION METRICS\n",
    "    mae = mean_absolute_error(y_test, predictions)\n",
    "    mse = mean_squared_error(y_test, predictions)\n",
    "    rmse = mean_squared_error(y_test, predictions, squared=False)  # Calculate RMSE\n",
    "    r2 = r2_score(y_test, predictions)\n",
    "\n",
    "    row = {'Model': key,\n",
    "           'Run Time (minutes)': round((time.time() - start_time) / 60, 2),\n",
    "           'MAE': mae,\n",
    "           'MSE': mse,\n",
    "           'RMSE': rmse,\n",
    "           'R2': r2\n",
    "           }\n",
    "\n",
    "    df_models = pd.concat([df_models, pd.DataFrame([row])], ignore_index=True)\n",
    "\n",
    "# Sort the DataFrame by R-squared (R2) in descending order\n",
    "df_models = df_models.sort_values(by='R2', ascending=False)\n",
    "\n",
    "# PRINT THE MODELS WITH REGRESSION METRICS [SORTED]\n",
    "print(df_models)\n"
   ]
  },
  {
   "cell_type": "code",
   "execution_count": 18,
   "id": "9d2fb417",
   "metadata": {},
   "outputs": [
    {
     "data": {
      "text/plain": [
       "ConvertedCompYearly\n",
       "2161    212\n",
       "1871    167\n",
       "3501    163\n",
       "2416    155\n",
       "2635    152\n",
       "       ... \n",
       "672       1\n",
       "3726      1\n",
       "1401      1\n",
       "3698      1\n",
       "858       1\n",
       "Name: count, Length: 3755, dtype: int64"
      ]
     },
     "execution_count": 18,
     "metadata": {},
     "output_type": "execute_result"
    }
   ],
   "source": [
    "df_LE[\"ConvertedCompYearly\"].value_counts()"
   ]
  },
  {
   "cell_type": "code",
   "execution_count": 86,
   "id": "609667a6",
   "metadata": {},
   "outputs": [
    {
     "data": {
      "text/plain": [
       "74351432.0"
      ]
     },
     "execution_count": 86,
     "metadata": {},
     "output_type": "execute_result"
    }
   ],
   "source": [
    "max(df_LE[\"ConvertedCompYearly\"])"
   ]
  },
  {
   "cell_type": "code",
   "execution_count": null,
   "id": "76652c21",
   "metadata": {},
   "outputs": [],
   "source": []
  }
 ],
 "metadata": {
  "kernelspec": {
   "display_name": "Python 3 (ipykernel)",
   "language": "python",
   "name": "python3"
  },
  "language_info": {
   "codemirror_mode": {
    "name": "ipython",
    "version": 3
   },
   "file_extension": ".py",
   "mimetype": "text/x-python",
   "name": "python",
   "nbconvert_exporter": "python",
   "pygments_lexer": "ipython3",
   "version": "3.10.11"
  }
 },
 "nbformat": 4,
 "nbformat_minor": 5
}
