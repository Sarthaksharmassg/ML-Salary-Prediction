{
 "cells": [
  {
   "cell_type": "code",
   "execution_count": 93,
   "id": "1d39317c",
   "metadata": {},
   "outputs": [],
   "source": [
    "#IMPORT MODULES\n",
    "import pandas as pd\n",
    "import numpy as np\n",
    "import time\n",
    "# SENTIMENT ANALYSIS USING VADER\n",
    "from sklearn.model_selection import train_test_split, cross_val_score\n",
    "from sklearn.metrics import accuracy_score, precision_score, f1_score, roc_auc_score, precision_score, recall_score, classification_report\n",
    "from sklearn.preprocessing import StandardScaler, MinMaxScaler, LabelEncoder\n",
    "from sklearn.svm import LinearSVC, SVC\n",
    "from sklearn.naive_bayes import BernoulliNB, MultinomialNB\n",
    "from sklearn.linear_model import LinearRegression, Ridge, Lasso\n",
    "from sklearn.tree import DecisionTreeRegressor\n",
    "from sklearn.ensemble import RandomForestRegressor\n",
    "from xgboost import XGBRegressor\n",
    "from lightgbm import LGBMRegressor\n",
    "from catboost import CatBoostRegressor\n",
    "from sklearn.metrics import mean_squared_error, r2_score\n",
    "from sklearn.metrics import mean_absolute_error, mean_squared_error, r2_score\n"
   ]
  },
  {
   "cell_type": "code",
   "execution_count": 148,
   "id": "646ce203",
   "metadata": {},
   "outputs": [],
   "source": [
    "#READ THE DATA FILE\n",
    "df1 = pd.read_csv(\"Datasets/survey_results_public.csv\")"
   ]
  },
  {
   "cell_type": "code",
   "execution_count": null,
   "id": "768ca6e2",
   "metadata": {},
   "outputs": [],
   "source": [
    "#ADD COLUMNS HERE"
   ]
  },
  {
   "cell_type": "code",
   "execution_count": 149,
   "id": "8bcf7dba",
   "metadata": {},
   "outputs": [],
   "source": [
    " #CHOOSE COLUMNS HEREE\n",
    "columns = [\n",
    "    \"EdLevel\",\n",
    "    \"RemoteWork\",\n",
    "    \"YearsCode\",\n",
    "    \"YearsCodePro\",\n",
    "    \"DevType\",\n",
    "    \"OrgSize\",\n",
    "    \"PurchaseInfluence\",\n",
    "    \"TechList\",\n",
    "    \"Country\",\n",
    "    \"Currency\",\n",
    "    \"AISelect\",\n",
    "    \"AISent\",\n",
    "    \"WorkExp\",\n",
    "    \"Industry\",\n",
    "     \"ConvertedCompYearly\",\n",
    "     \"Employment\"\n",
    "]"
   ]
  },
  {
   "cell_type": "code",
   "execution_count": 150,
   "id": "2691f502",
   "metadata": {},
   "outputs": [],
   "source": [
    "df1 = df1[columns]"
   ]
  },
  {
   "cell_type": "code",
   "execution_count": 151,
   "id": "82249869",
   "metadata": {},
   "outputs": [],
   "source": [
    "#DROP RECORDS WITH SALARY NONE\n",
    "df1 = df1[df1[\"ConvertedCompYearly\"].notnull()]\n",
    "#FILL NA WITH 0\n",
    "df1.fillna(0, inplace=True)"
   ]
  },
  {
   "cell_type": "code",
   "execution_count": 152,
   "id": "a47c069a",
   "metadata": {},
   "outputs": [],
   "source": [
    "#CATEGORISE COLUMNS  INTO MAJORITY VALUES AND 'OTHER'\n",
    "def shorten_categories(categories, cutoff):\n",
    "    categorical_map = {}\n",
    "    for i in range(len(categories)):\n",
    "        if categories.values[i] >= cutoff:\n",
    "            categorical_map[categories.index[i]] = categories.index[i]\n",
    "        else:\n",
    "            categorical_map[categories.index[i]] = 'Other'\n",
    "    return categorical_map\n",
    "\n",
    "\n",
    "country_map = shorten_categories(df1.Country.value_counts(), 400)\n",
    "df1['Country'] = df1['Country'].map(country_map)\n",
    "currency_map = shorten_categories(df1.Currency.value_counts(), 400)\n",
    "df1['Currency'] = df1['Currency'].map(currency_map)"
   ]
  },
  {
   "cell_type": "code",
   "execution_count": 153,
   "id": "c1b4a65f",
   "metadata": {},
   "outputs": [],
   "source": [
    "#CATEGORISE THE WORK EXPERIENCE INTO BINS\n",
    "bins = [0, 2, 5, 10, 20, 30, 40, 50, float('inf')]  # Define custom bin edges\n",
    "labels = [0, 1, 2, 3, 4, 5, 6, 7]  # Define labels\n",
    "\n",
    "# Create a new column with the categories\n",
    "df1['ExperienceCategory'] = pd.cut(df1['WorkExp'], bins=bins, labels=labels)"
   ]
  },
  {
   "cell_type": "code",
   "execution_count": 154,
   "id": "1cd9eb39",
   "metadata": {},
   "outputs": [],
   "source": [
    "#CATEGORISE LESS THAN 1 YEAR AS 0 AND MORE THAN 50 AS 51 FOR YEARS OF CODE\n",
    "df1['YearsCode'] = df1['YearsCode'].replace(\"Less than 1 year\", 0)\n",
    "df1['YearsCode'] = df1['YearsCode'].replace(\"More than 50 years\", 51)\n",
    "\n",
    "df1['YearsCodePro'] = df1['YearsCodePro'].replace(\"Less than 1 year\", 0)\n",
    "df1['YearsCodePro'] = df1['YearsCodePro'].replace(\"More than 50 years\", 51)"
   ]
  },
  {
   "cell_type": "code",
   "execution_count": 155,
   "id": "ef025523",
   "metadata": {},
   "outputs": [],
   "source": [
    "#CATEGORISE YEARS OF CODE INTO BINS\n",
    "bins = [0, 2, 5, 10, 20, 30, 40, 50, float('inf')]  # Define custom bin edges\n",
    "labels = [0, 1, 2, 3, 4, 5, 6, 7]  # Define labels\n",
    "\n",
    "# Create a new column with the categories\n",
    "df1[\"YearsCode\"] = df1[\"YearsCode\"].astype(int)\n",
    "df1[\"YearsCodePro\"] = df1[\"YearsCodePro\"].astype(int)\n",
    "df1['YearsCodeCategory'] = pd.cut(df1['YearsCode'], bins=bins, labels=labels)\n",
    "df1['YearsCodeProCategory'] = pd.cut(df1['YearsCodePro'], bins=bins, labels=labels)"
   ]
  },
  {
   "cell_type": "code",
   "execution_count": null,
   "id": "d2257bf1",
   "metadata": {},
   "outputs": [],
   "source": [
    "#FILTER THE DATAFRAME\n",
    "df1 = df1[df1[\"ConvertedCompYearly\"] <= 250000]\n",
    "df1 = df1[df1[\"ConvertedCompYearly\"] >= 100]\n",
    "df1 = df1[df1['Country'] != 'Other']\n",
    "df1 = df1[df1[\"Currency\"] != \"Other\"]"
   ]
  },
  {
   "cell_type": "code",
   "execution_count": 156,
   "id": "b3ed071b",
   "metadata": {},
   "outputs": [],
   "source": [
    "#MAKE COLUMNS STRING TYPE\n",
    "for x in columns:\n",
    "    df1[x] = df1[x].astype(str)"
   ]
  },
  {
   "cell_type": "code",
   "execution_count": 126,
   "id": "6d7a61b3",
   "metadata": {},
   "outputs": [
    {
     "data": {
      "text/plain": [
       "48019"
      ]
     },
     "execution_count": 126,
     "metadata": {},
     "output_type": "execute_result"
    }
   ],
   "source": [
    "len(df1)"
   ]
  },
  {
   "cell_type": "code",
   "execution_count": 157,
   "id": "e6448c8d",
   "metadata": {},
   "outputs": [],
   "source": [
    "#LABEL ENCODE THE COLUMNS\n",
    "df_LE = df1\n",
    "for i in columns:\n",
    "    if i == \"ConvertedCompYearly\":\n",
    "        continue\n",
    "    le = LabelEncoder()\n",
    "    df_LE[i] = le.fit_transform(df_LE[i])\n",
    "    \n",
    "X = df_LE[[\n",
    "#     \"Age\",\n",
    " 'AISelect',\n",
    " 'OrgSize',\n",
    " 'DevType',\n",
    " 'YearsCodeCategory',\n",
    " 'Industry',\n",
    " 'ExperienceCategory', \n",
    " 'YearsCodeProCategory',\n",
    "    \"RemoteWork\",\n",
    " 'Currency',\n",
    " 'Country',\n",
    "    \"EdLevel\",\n",
    "    \"Employment\"\n",
    "]]\n",
    "\n",
    "Y = df_LE[\"ConvertedCompYearly\"]"
   ]
  },
  {
   "cell_type": "code",
   "execution_count": 158,
   "id": "780b713b",
   "metadata": {},
   "outputs": [
    {
     "name": "stderr",
     "output_type": "stream",
     "text": [
      "/Users/kpandey/anaconda3/lib/python3.10/site-packages/pandas/core/arrays/base.py:485: RuntimeWarning: invalid value encountered in cast\n",
      "  result = np.asarray(self, dtype=dtype)\n",
      "/Users/kpandey/anaconda3/lib/python3.10/site-packages/pandas/core/arrays/base.py:485: RuntimeWarning: invalid value encountered in cast\n",
      "  result = np.asarray(self, dtype=dtype)\n",
      "/Users/kpandey/anaconda3/lib/python3.10/site-packages/pandas/core/arrays/base.py:485: RuntimeWarning: invalid value encountered in cast\n",
      "  result = np.asarray(self, dtype=dtype)\n",
      "/Users/kpandey/anaconda3/lib/python3.10/site-packages/pandas/core/arrays/base.py:485: RuntimeWarning: invalid value encountered in cast\n",
      "  result = np.asarray(self, dtype=dtype)\n",
      "/Users/kpandey/anaconda3/lib/python3.10/site-packages/pandas/core/arrays/base.py:485: RuntimeWarning: invalid value encountered in cast\n",
      "  result = np.asarray(self, dtype=dtype)\n"
     ]
    }
   ],
   "source": [
    "#TRAIN-TEST SPLIT\n",
    "X_train, X_test, y_train, y_test = train_test_split(\n",
    "    X, Y, test_size=0.1, random_state=42)\n",
    "\n",
    "scaler = StandardScaler()\n",
    "X_train_scaled = scaler.fit_transform(X_train)\n",
    "X_test_scaled = scaler.transform(X_test)"
   ]
  },
  {
   "cell_type": "code",
   "execution_count": 159,
   "id": "9ddb74f5",
   "metadata": {},
   "outputs": [],
   "source": [
    "#INITIALISE MODELS\n",
    "classifiers = {}\n",
    "\n",
    "# Linear Regression\n",
    "classifiers[\"LinearRegression\"] = LinearRegression()\n",
    "\n",
    "# Decision Tree\n",
    "classifiers[\"DecisionTree\"] = DecisionTreeRegressor()\n",
    "\n",
    "# Random Forest\n",
    "classifiers[\"RandomForest\"] = RandomForestRegressor()\n",
    "\n",
    "# XGBoost\n",
    "classifiers[\"XGBoost\"] = XGBRegressor()\n",
    "\n",
    "# # LightGBM\n",
    "# classifiers[\"LightGBM\"] = LGBMRegressor()\n",
    "\n",
    "# # CatBoost\n",
    "# classifiers[\"CatBoost\"] = CatBoostRegressor(silent=True)"
   ]
  },
  {
   "cell_type": "code",
   "execution_count": 160,
   "id": "71153b64",
   "metadata": {},
   "outputs": [
    {
     "name": "stdout",
     "output_type": "stream",
     "text": [
      "              Model  Run Time (minutes)           MAE           MSE  \\\n",
      "0  LinearRegression                0.00  57205.388140  1.015713e+10   \n",
      "2      RandomForest                0.14  49007.680878  2.114488e+10   \n",
      "1      DecisionTree                0.00  59618.419746  1.103938e+11   \n",
      "3           XGBoost                0.01  53424.661693  1.145923e+11   \n",
      "\n",
      "            RMSE        R2  \n",
      "0  100782.605007  0.040434  \n",
      "2  145412.781439 -0.997601  \n",
      "1  332255.616603 -9.429136  \n",
      "3  338514.787000 -9.825774  \n"
     ]
    }
   ],
   "source": [
    "# Create an empty DataFrame to store the results\n",
    "columns = ['Model', 'Run Time (minutes)', 'MAE', 'MSE', 'RMSE', 'R2']\n",
    "df_models = pd.DataFrame(columns=columns)\n",
    "\n",
    "# Loop through your regression models\n",
    "for key, clf in classifiers.items():\n",
    "    # STARTING TIME\n",
    "    start_time = time.time()\n",
    "    # TRAIN CLASSIFIER ON TRAINING DATA\n",
    "    clf.fit(X_train_scaled, y_train)\n",
    "    # MAKE PREDICTIONS USING CURRENT CLASSIFIER\n",
    "    predictions = clf.predict(X_test_scaled)\n",
    "    # CALCULATE REGRESSION METRICS\n",
    "    mae = mean_absolute_error(y_test, predictions)\n",
    "    mse = mean_squared_error(y_test, predictions)\n",
    "    rmse = mean_squared_error(y_test, predictions, squared=False)  # Calculate RMSE\n",
    "    r2 = r2_score(y_test, predictions)\n",
    "\n",
    "    row = {'Model': key,\n",
    "           'Run Time (minutes)': round((time.time() - start_time) / 60, 2),\n",
    "           'MAE': mae,\n",
    "           'MSE': mse,\n",
    "           'RMSE': rmse,\n",
    "           'R2': r2\n",
    "           }\n",
    "\n",
    "    df_models = pd.concat([df_models, pd.DataFrame([row])], ignore_index=True)\n",
    "\n",
    "# Sort the DataFrame by R-squared (R2) in descending order\n",
    "df_models = df_models.sort_values(by='R2', ascending=False)\n",
    "\n",
    "# PRINT THE MODELS WITH REGRESSION METRICS [SORTED]\n",
    "print(df_models)"
   ]
  },
  {
   "cell_type": "code",
   "execution_count": null,
   "id": "1572ca33",
   "metadata": {},
   "outputs": [],
   "source": []
  }
 ],
 "metadata": {
  "kernelspec": {
   "display_name": "Python 3 (ipykernel)",
   "language": "python",
   "name": "python3"
  },
  "language_info": {
   "codemirror_mode": {
    "name": "ipython",
    "version": 3
   },
   "file_extension": ".py",
   "mimetype": "text/x-python",
   "name": "python",
   "nbconvert_exporter": "python",
   "pygments_lexer": "ipython3",
   "version": "3.10.11"
  }
 },
 "nbformat": 4,
 "nbformat_minor": 5
}
