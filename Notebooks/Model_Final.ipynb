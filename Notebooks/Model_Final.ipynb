{
 "cells": [
  {
   "cell_type": "code",
   "execution_count": 47,
   "id": "1d39317c",
   "metadata": {},
   "outputs": [],
   "source": [
    "#IMPORT MODULES\n",
    "import pandas as pd\n",
    "import numpy as np\n",
    "import time\n",
    "# SENTIMENT ANALYSIS USING VADER\n",
    "from sklearn.model_selection import train_test_split, cross_val_score\n",
    "from sklearn.metrics import accuracy_score, precision_score, f1_score, roc_auc_score, precision_score, recall_score, classification_report\n",
    "from sklearn.preprocessing import StandardScaler, MinMaxScaler, LabelEncoder\n",
    "from sklearn.svm import LinearSVC, SVC\n",
    "from sklearn.naive_bayes import BernoulliNB, MultinomialNB\n",
    "from sklearn.linear_model import LinearRegression, Ridge, Lasso\n",
    "from sklearn.tree import DecisionTreeRegressor\n",
    "from sklearn.ensemble import RandomForestRegressor\n",
    "from xgboost import XGBRegressor\n",
    "from lightgbm import LGBMRegressor\n",
    "from catboost import CatBoostRegressor\n",
    "from sklearn.metrics import mean_squared_error, r2_score\n",
    "from sklearn.metrics import mean_absolute_error, mean_squared_error, r2_score\n"
   ]
  },
  {
   "cell_type": "code",
   "execution_count": 48,
   "id": "646ce203",
   "metadata": {},
   "outputs": [],
   "source": [
    "#READ THE DATA FILE\n",
    "df1 = pd.read_csv(\"../Datasets/survey_results_public.csv\")"
   ]
  },
  {
   "cell_type": "code",
   "execution_count": 49,
   "id": "768ca6e2",
   "metadata": {},
   "outputs": [],
   "source": [
    "#ADD COLUMNS HERE\n",
    "import pandas as pd\n",
    "df1 = pd.read_csv(\"../Datasets/survey_results_public.csv\")\n",
    "column_name = \"Employment\"\n",
    "st = set()\n",
    "for i in range (0,len(df1)):\n",
    "    value = str(df1[column_name].iloc[i])\n",
    "    if(value == \"nan\"):continue\n",
    "    l = value.split(\";\")\n",
    "    for ele in l:\n",
    "        st.add(ele)\n",
    "for ele in st:\n",
    "    df1[ele] = 0\n",
    "for i in range (0,len(df1)):\n",
    "    value = str(df1[column_name].iloc[i])\n",
    "    if(value == \"nan\"):continue\n",
    "    l = value.split(\";\")\n",
    "    for ele in l:\n",
    "        df1.loc[i,ele] = 1"
   ]
  },
  {
   "cell_type": "code",
   "execution_count": null,
   "id": "8aafed41",
   "metadata": {},
   "outputs": [],
   "source": [
    "#CHOOSE COLUMNS TO TRAIN ON\n",
    "\n",
    "train_columns = [\n",
    "#     \"Age\",\n",
    " 'AISelect',\n",
    " 'OrgSize',\n",
    " 'DevType',\n",
    " 'YearsCodeCategory',\n",
    " 'Industry',\n",
    " 'ExperienceCategory', \n",
    " 'YearsCodeProCategory',\n",
    "    \"RemoteWork\",\n",
    " 'Currency',\n",
    " 'Country',\n",
    "    \"EdLevel\"\n",
    "]\n",
    "\n",
    "for ele in st:\n",
    "    train_columns.append(ele)"
   ]
  },
  {
   "cell_type": "code",
   "execution_count": 50,
   "id": "82249869",
   "metadata": {},
   "outputs": [],
   "source": [
    "#DROP RECORDS WITH SALARY NONE\n",
    "df1 = df1[df1[\"ConvertedCompYearly\"].notnull()]\n",
    "#FILL NA WITH 0\n",
    "df1.fillna(0, inplace=True)"
   ]
  },
  {
   "cell_type": "code",
   "execution_count": 51,
   "id": "a47c069a",
   "metadata": {},
   "outputs": [],
   "source": [
    "#CATEGORISE COLUMNS  INTO MAJORITY VALUES AND 'OTHER'\n",
    "def shorten_categories(categories, cutoff):\n",
    "    categorical_map = {}\n",
    "    for i in range(len(categories)):\n",
    "        if categories.values[i] >= cutoff:\n",
    "            categorical_map[categories.index[i]] = categories.index[i]\n",
    "        else:\n",
    "            categorical_map[categories.index[i]] = 'Other'\n",
    "    return categorical_map\n",
    "\n",
    "\n",
    "country_map = shorten_categories(df1.Country.value_counts(), 400)\n",
    "df1['Country'] = df1['Country'].map(country_map)\n",
    "currency_map = shorten_categories(df1.Currency.value_counts(), 400)\n",
    "df1['Currency'] = df1['Currency'].map(currency_map)"
   ]
  },
  {
   "cell_type": "code",
   "execution_count": 52,
   "id": "c1b4a65f",
   "metadata": {},
   "outputs": [],
   "source": [
    "#CATEGORISE THE WORK EXPERIENCE INTO BINS\n",
    "bins = [0, 2, 5, 10, 20, 30, 40, 50, float('inf')]  # Define custom bin edges\n",
    "labels = [0, 1, 2, 3, 4, 5, 6, 7]  # Define labels\n",
    "\n",
    "# Create a new column with the categories\n",
    "df1['ExperienceCategory'] = pd.cut(df1['WorkExp'], bins=bins, labels=labels)"
   ]
  },
  {
   "cell_type": "code",
   "execution_count": 53,
   "id": "1cd9eb39",
   "metadata": {},
   "outputs": [],
   "source": [
    "#CATEGORISE LESS THAN 1 YEAR AS 0 AND MORE THAN 50 AS 51 FOR YEARS OF CODE\n",
    "df1['YearsCode'] = df1['YearsCode'].replace(\"Less than 1 year\", 0)\n",
    "df1['YearsCode'] = df1['YearsCode'].replace(\"More than 50 years\", 51)\n",
    "\n",
    "df1['YearsCodePro'] = df1['YearsCodePro'].replace(\"Less than 1 year\", 0)\n",
    "df1['YearsCodePro'] = df1['YearsCodePro'].replace(\"More than 50 years\", 51)"
   ]
  },
  {
   "cell_type": "code",
   "execution_count": 54,
   "id": "ef025523",
   "metadata": {},
   "outputs": [],
   "source": [
    "#CATEGORISE YEARS OF CODE INTO BINS\n",
    "bins = [0, 2, 5, 10, 20, 30, 40, 50, float('inf')]  # Define custom bin edges\n",
    "labels = [0, 1, 2, 3, 4, 5, 6, 7]  # Define labels\n",
    "\n",
    "# Create a new column with the categories\n",
    "df1[\"YearsCode\"] = df1[\"YearsCode\"].astype(int)\n",
    "df1[\"YearsCodePro\"] = df1[\"YearsCodePro\"].astype(int)\n",
    "df1['YearsCodeCategory'] = pd.cut(df1['YearsCode'], bins=bins, labels=labels)\n",
    "df1['YearsCodeProCategory'] = pd.cut(df1['YearsCodePro'], bins=bins, labels=labels)"
   ]
  },
  {
   "cell_type": "code",
   "execution_count": 55,
   "id": "d2257bf1",
   "metadata": {},
   "outputs": [],
   "source": [
    "#FILTER THE DATAFRAME\n",
    "df1 = df1[df1[\"ConvertedCompYearly\"] <= 250000]\n",
    "df1 = df1[df1[\"ConvertedCompYearly\"] >= 100]\n",
    "df1 = df1[df1['Country'] != 'Other']\n",
    "df1 = df1[df1[\"Currency\"] != \"Other\"]"
   ]
  },
  {
   "cell_type": "code",
   "execution_count": 56,
   "id": "b3ed071b",
   "metadata": {},
   "outputs": [],
   "source": [
    "#MAKE COLUMNS STRING TYPE\n",
    "for x in df1.columns:\n",
    "    df1[x] = df1[x].astype(str)"
   ]
  },
  {
   "cell_type": "code",
   "execution_count": 57,
   "id": "6d7a61b3",
   "metadata": {},
   "outputs": [
    {
     "data": {
      "text/plain": [
       "37524"
      ]
     },
     "execution_count": 57,
     "metadata": {},
     "output_type": "execute_result"
    }
   ],
   "source": [
    "len(df1)"
   ]
  },
  {
   "cell_type": "code",
   "execution_count": 59,
   "id": "e6448c8d",
   "metadata": {},
   "outputs": [],
   "source": [
    "#LABEL ENCODE THE COLUMNS\n",
    "\n",
    "df_LE = df1\n",
    "for i in train_columns:\n",
    "    if i == \"ConvertedCompYearly\":\n",
    "        continue\n",
    "    le = LabelEncoder()\n",
    "    df_LE[i] = le.fit_transform(df_LE[i])\n",
    "\n",
    "X = df_LE[train_columns]\n",
    "\n",
    "Y = df_LE[\"ConvertedCompYearly\"]"
   ]
  },
  {
   "cell_type": "code",
   "execution_count": 60,
   "id": "780b713b",
   "metadata": {},
   "outputs": [],
   "source": [
    "#TRAIN-TEST SPLIT\n",
    "X_train, X_test, y_train, y_test = train_test_split(\n",
    "    X, Y, test_size=0.1, random_state=42)\n",
    "\n",
    "scaler = StandardScaler()\n",
    "X_train_scaled = scaler.fit_transform(X_train)\n",
    "X_test_scaled = scaler.transform(X_test)"
   ]
  },
  {
   "cell_type": "code",
   "execution_count": 61,
   "id": "9ddb74f5",
   "metadata": {},
   "outputs": [],
   "source": [
    "#INITIALISE MODELS\n",
    "classifiers = {}\n",
    "\n",
    "# Linear Regression\n",
    "classifiers[\"LinearRegression\"] = LinearRegression()\n",
    "\n",
    "# Decision Tree\n",
    "classifiers[\"DecisionTree\"] = DecisionTreeRegressor()\n",
    "\n",
    "# Random Forest\n",
    "classifiers[\"RandomForest\"] = RandomForestRegressor()\n",
    "\n",
    "# XGBoost\n",
    "classifiers[\"XGBoost\"] = XGBRegressor()\n",
    "\n",
    "# # LightGBM\n",
    "# classifiers[\"LightGBM\"] = LGBMRegressor()\n",
    "\n",
    "# # CatBoost\n",
    "# classifiers[\"CatBoost\"] = CatBoostRegressor(silent=True)"
   ]
  },
  {
   "cell_type": "code",
   "execution_count": 62,
   "id": "2979d57c",
   "metadata": {},
   "outputs": [
    {
     "data": {
      "text/plain": [
       "[('Student, part-time', 0.0),\n",
       " ('Not employed, and not looking for work', 0.0),\n",
       " ('Student, full-time', 0.0),\n",
       " ('Not employed, but looking for work', 0.0),\n",
       " ('I prefer not to say', 0.0002527982921425521),\n",
       " ('Retired', 0.0006639597253675796),\n",
       " ('Employed, part-time', 0.00466642001322175),\n",
       " ('Employed, full-time', 0.009485332904982033),\n",
       " ('Independent contractor, freelancer, or self-employed',\n",
       "  0.014389194313680333),\n",
       " ('RemoteWork', 0.028814848729277188),\n",
       " ('ExperienceCategory', 0.03259935873628199),\n",
       " ('AISelect', 0.03680907764414173),\n",
       " ('EdLevel', 0.0502087461176938),\n",
       " ('Industry', 0.050614633781622204),\n",
       " ('Currency', 0.058437800427732285),\n",
       " ('OrgSize', 0.07202430679353979),\n",
       " ('YearsCodeProCategory', 0.07776433958387495),\n",
       " ('YearsCodeCategory', 0.08553318417193767),\n",
       " ('DevType', 0.08641588787596331),\n",
       " ('Country', 0.3913201108885409)]"
      ]
     },
     "execution_count": 62,
     "metadata": {},
     "output_type": "execute_result"
    }
   ],
   "source": [
    "#CHECK IMPORTANCE\n",
    "from sklearn.ensemble import RandomForestRegressor\n",
    "model = RandomForestRegressor()\n",
    "model.fit(X, Y)\n",
    "feature_importances = model.feature_importances_\n",
    "\n",
    "map_ = {}\n",
    "\n",
    "for i, a in enumerate(X):\n",
    "    map_[a] = feature_importances[i]\n",
    "    \n",
    "sorted(map_.items(), key = lambda x: x[1])"
   ]
  },
  {
   "cell_type": "code",
   "execution_count": 63,
   "id": "71153b64",
   "metadata": {},
   "outputs": [
    {
     "name": "stderr",
     "output_type": "stream",
     "text": [
      "C:\\Users\\Siddharth Shah\\AppData\\Local\\Temp\\ipykernel_7248\\201078824.py:27: FutureWarning: The behavior of DataFrame concatenation with empty or all-NA entries is deprecated. In a future version, this will no longer exclude empty or all-NA columns when determining the result dtypes. To retain the old behavior, exclude the relevant entries before the concat operation.\n",
      "  df_models = pd.concat([df_models, pd.DataFrame([row])], ignore_index=True)\n"
     ]
    },
    {
     "name": "stdout",
     "output_type": "stream",
     "text": [
      "              Model  Run Time (minutes)           MAE           MSE  \\\n",
      "3           XGBoost                0.00  24249.255035  1.140693e+09   \n",
      "2      RandomForest                0.21  26320.208980  1.338425e+09   \n",
      "0  LinearRegression                0.00  37228.174634  2.226287e+09   \n",
      "1      DecisionTree                0.00  36291.107603  2.534464e+09   \n",
      "\n",
      "           RMSE        R2  \n",
      "3  33774.146514  0.634366  \n",
      "2  36584.485147  0.570986  \n",
      "0  47183.544996  0.286394  \n",
      "1  50343.461965  0.187612  \n"
     ]
    },
    {
     "name": "stderr",
     "output_type": "stream",
     "text": [
      "c:\\Users\\Siddharth Shah\\anaconda3\\envs\\eightfoldai\\Lib\\site-packages\\xgboost\\data.py:520: FutureWarning: is_sparse is deprecated and will be removed in a future version. Check `isinstance(dtype, pd.SparseDtype)` instead.\n",
      "  if is_sparse(data):\n"
     ]
    }
   ],
   "source": [
    "# Create an empty DataFrame to store the results\n",
    "columns = ['Model', 'Run Time (minutes)', 'MAE', 'MSE', 'RMSE', 'R2']\n",
    "df_models = pd.DataFrame(columns=columns)\n",
    "\n",
    "# Loop through your regression models\n",
    "for key, clf in classifiers.items():\n",
    "    # STARTING TIME\n",
    "    start_time = time.time()\n",
    "    # TRAIN CLASSIFIER ON TRAINING DATA\n",
    "    clf.fit(X_train_scaled, y_train)\n",
    "    # MAKE PREDICTIONS USING CURRENT CLASSIFIER\n",
    "    predictions = clf.predict(X_test_scaled)\n",
    "    # CALCULATE REGRESSION METRICS\n",
    "    mae = mean_absolute_error(y_test, predictions)\n",
    "    mse = mean_squared_error(y_test, predictions)\n",
    "    rmse = mean_squared_error(y_test, predictions, squared=False)  # Calculate RMSE\n",
    "    r2 = r2_score(y_test, predictions)\n",
    "\n",
    "    row = {'Model': key,\n",
    "           'Run Time (minutes)': round((time.time() - start_time) / 60, 2),\n",
    "           'MAE': mae,\n",
    "           'MSE': mse,\n",
    "           'RMSE': rmse,\n",
    "           'R2': r2\n",
    "           }\n",
    "\n",
    "    df_models = pd.concat([df_models, pd.DataFrame([row])], ignore_index=True)\n",
    "\n",
    "# Sort the DataFrame by R-squared (R2) in descending order\n",
    "df_models = df_models.sort_values(by='R2', ascending=False)\n",
    "\n",
    "# PRINT THE MODELS WITH REGRESSION METRICS [SORTED]\n",
    "print(df_models)"
   ]
  }
 ],
 "metadata": {
  "kernelspec": {
   "display_name": "Python 3 (ipykernel)",
   "language": "python",
   "name": "python3"
  },
  "language_info": {
   "codemirror_mode": {
    "name": "ipython",
    "version": 3
   },
   "file_extension": ".py",
   "mimetype": "text/x-python",
   "name": "python",
   "nbconvert_exporter": "python",
   "pygments_lexer": "ipython3",
   "version": "3.11.5"
  }
 },
 "nbformat": 4,
 "nbformat_minor": 5
}
