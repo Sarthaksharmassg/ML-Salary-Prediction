{
 "cells": [
  {
   "cell_type": "code",
   "execution_count": 30,
   "id": "72dac477",
   "metadata": {},
   "outputs": [],
   "source": [
    "#IMPORT MODULES\n",
    "import pandas as pd\n",
    "import numpy as np\n",
    "import time\n",
    "# SENTIMENT ANALYSIS USING VADER\n",
    "from sklearn.model_selection import train_test_split, cross_val_score\n",
    "from sklearn.metrics import accuracy_score, precision_score, f1_score, roc_auc_score, precision_score, recall_score, classification_report\n",
    "from sklearn.preprocessing import StandardScaler, MinMaxScaler, LabelEncoder\n",
    "from sklearn.svm import LinearSVC, SVC\n",
    "from sklearn.naive_bayes import BernoulliNB, MultinomialNB\n",
    "from sklearn.linear_model import LinearRegression, Ridge, Lasso\n",
    "from sklearn.tree import DecisionTreeRegressor\n",
    "from sklearn.ensemble import RandomForestRegressor\n",
    "from xgboost import XGBRegressor\n",
    "from lightgbm import LGBMRegressor\n",
    "from catboost import CatBoostRegressor\n",
    "from sklearn.metrics import mean_squared_error, r2_score\n",
    "from sklearn.metrics import mean_absolute_error, mean_squared_error, r2_score\n"
   ]
  },
  {
   "cell_type": "code",
   "execution_count": 31,
   "id": "ccb901fd",
   "metadata": {},
   "outputs": [],
   "source": [
    "df = pd.read_csv(\"Updated Dataset.csv\")"
   ]
  },
  {
   "cell_type": "code",
   "execution_count": 32,
   "id": "0a9d1fa6",
   "metadata": {},
   "outputs": [],
   "source": [
    "def shorten_categories(categories, cutoff):\n",
    "    categorical_map = {}\n",
    "    for i in range(len(categories)):\n",
    "        if categories.values[i] >= cutoff:\n",
    "            categorical_map[categories.index[i]] = categories.index[i]\n",
    "        else:\n",
    "            categorical_map[categories.index[i]] = 'Other'\n",
    "    return categorical_map"
   ]
  },
  {
   "cell_type": "code",
   "execution_count": 33,
   "id": "70d67b06",
   "metadata": {},
   "outputs": [
    {
     "data": {
      "text/plain": [
       "Country\n",
       "Other    9626\n",
       "177      8005\n",
       "59       2682\n",
       "175      2305\n",
       "72       1524\n",
       "30       1422\n",
       "56       1074\n",
       "131       918\n",
       "23        915\n",
       "115       837\n",
       "8         768\n",
       "154       764\n",
       "79        712\n",
       "159       632\n",
       "160       431\n",
       "Name: count, dtype: int64"
      ]
     },
     "execution_count": 33,
     "metadata": {},
     "output_type": "execute_result"
    }
   ],
   "source": [
    "country_map = shorten_categories(df.Country.value_counts(), 400)\n",
    "df['Country'] = df['Country'].map(country_map)\n",
    "df.Country.value_counts()"
   ]
  },
  {
   "cell_type": "code",
   "execution_count": 34,
   "id": "7fdbce3f",
   "metadata": {},
   "outputs": [],
   "source": [
    "df = df[df[\"Salary\"] <= 250000]\n",
    "df = df[df[\"Salary\"] >= 10000]\n",
    "df = df[df['Country'] != 'Other']"
   ]
  },
  {
   "cell_type": "code",
   "execution_count": 35,
   "id": "ddad6180",
   "metadata": {},
   "outputs": [],
   "source": [
    "X = df[[\n",
    "    \"Age\",\n",
    "    \"RemoteWork\",\n",
    "    \"EdLevel\",\n",
    "    \"YearsCode\",\n",
    "    \"Country\",\n",
    "    \"WorkExp\",\n",
    "    \"Industry\"\n",
    "]]"
   ]
  },
  {
   "cell_type": "code",
   "execution_count": 36,
   "id": "1fa750bd",
   "metadata": {},
   "outputs": [],
   "source": [
    "Y = df['Salary']"
   ]
  },
  {
   "cell_type": "code",
   "execution_count": 37,
   "id": "b5eb1c81",
   "metadata": {},
   "outputs": [],
   "source": [
    "X_train, X_test, y_train, y_test = train_test_split(\n",
    "    X, Y, test_size=0.2, random_state=42)"
   ]
  },
  {
   "cell_type": "code",
   "execution_count": 38,
   "id": "c700b648",
   "metadata": {},
   "outputs": [],
   "source": [
    "scaler = StandardScaler()\n",
    "X_train_scaled = scaler.fit_transform(X_train)\n",
    "X_test_scaled = scaler.transform(X_test)"
   ]
  },
  {
   "cell_type": "code",
   "execution_count": 39,
   "id": "6c3ad167",
   "metadata": {},
   "outputs": [],
   "source": [
    "classifiers = {}\n",
    "\n",
    "# Linear Regression\n",
    "classifiers[\"LinearRegression\"] = LinearRegression()\n",
    "\n",
    "# # Decision Tree\n",
    "classifiers[\"DecisionTree\"] = DecisionTreeRegressor()\n",
    "\n",
    "# # Random Forest\n",
    "classifiers[\"RandomForest\"] = RandomForestRegressor()\n",
    "\n",
    "# # XGBoost\n",
    "# classifiers[\"XGBoost\"] = XGBRegressor()\n",
    "\n",
    "# # LightGBM\n",
    "# classifiers[\"LightGBM\"] = LGBMRegressor()\n",
    "\n",
    "# # CatBoost\n",
    "# classifiers[\"CatBoost\"] = CatBoostRegressor(silent=True)"
   ]
  },
  {
   "cell_type": "code",
   "execution_count": 40,
   "id": "4a6ef1ce",
   "metadata": {},
   "outputs": [
    {
     "name": "stdout",
     "output_type": "stream",
     "text": [
      "              Model  Run Time (minutes)           MAE           MSE  \\\n",
      "2      RandomForest                0.04  31306.268119  1.802707e+09   \n",
      "0  LinearRegression                0.00  41958.498763  2.719233e+09   \n",
      "1      DecisionTree                0.00  39786.995706  2.983569e+09   \n",
      "\n",
      "           RMSE        R2  \n",
      "2  42458.302305  0.435426  \n",
      "0  52146.264453  0.148387  \n",
      "1  54622.055706  0.065602  \n"
     ]
    }
   ],
   "source": [
    "# Create an empty DataFrame to store the results\n",
    "columns = ['Model', 'Run Time (minutes)', 'MAE', 'MSE', 'RMSE', 'R2']\n",
    "df_models = pd.DataFrame(columns=columns)\n",
    "\n",
    "# Loop through your regression models\n",
    "for key, clf in classifiers.items():\n",
    "    # STARTING TIME\n",
    "    start_time = time.time()\n",
    "    # TRAIN CLASSIFIER ON TRAINING DATA\n",
    "    clf.fit(X_train_scaled, y_train)\n",
    "    # MAKE PREDICTIONS USING CURRENT CLASSIFIER\n",
    "    predictions = clf.predict(X_test_scaled)\n",
    "    # CALCULATE REGRESSION METRICS\n",
    "    mae = mean_absolute_error(y_test, predictions)\n",
    "    mse = mean_squared_error(y_test, predictions)\n",
    "    rmse = mean_squared_error(y_test, predictions, squared=False)  # Calculate RMSE\n",
    "    r2 = r2_score(y_test, predictions)\n",
    "\n",
    "    row = {'Model': key,\n",
    "           'Run Time (minutes)': round((time.time() - start_time) / 60, 2),\n",
    "           'MAE': mae,\n",
    "           'MSE': mse,\n",
    "           'RMSE': rmse,\n",
    "           'R2': r2\n",
    "           }\n",
    "\n",
    "    df_models = pd.concat([df_models, pd.DataFrame([row])], ignore_index=True)\n",
    "\n",
    "# Sort the DataFrame by R-squared (R2) in descending order\n",
    "df_models = df_models.sort_values(by='R2', ascending=False)\n",
    "\n",
    "# PRINT THE MODELS WITH REGRESSION METRICS [SORTED]\n",
    "print(df_models)"
   ]
  },
  {
   "cell_type": "code",
   "execution_count": 7,
   "id": "9901bce9",
   "metadata": {},
   "outputs": [],
   "source": []
  },
  {
   "cell_type": "code",
   "execution_count": 8,
   "id": "e3bf5c94",
   "metadata": {},
   "outputs": [
    {
     "data": {
      "text/plain": [
       "Country\n",
       "Other    9626\n",
       "177      8005\n",
       "59       2682\n",
       "175      2305\n",
       "72       1524\n",
       "30       1422\n",
       "56       1074\n",
       "131       918\n",
       "23        915\n",
       "115       837\n",
       "8         768\n",
       "154       764\n",
       "79        712\n",
       "159       632\n",
       "160       431\n",
       "Name: count, dtype: int64"
      ]
     },
     "execution_count": 8,
     "metadata": {},
     "output_type": "execute_result"
    }
   ],
   "source": []
  },
  {
   "cell_type": "code",
   "execution_count": 9,
   "id": "6cf14e2a",
   "metadata": {},
   "outputs": [],
   "source": []
  },
  {
   "cell_type": "code",
   "execution_count": 12,
   "id": "19339ada",
   "metadata": {},
   "outputs": [
    {
     "data": {
      "text/plain": [
       "RemoteWork\n",
       "2    14199\n",
       "0    13863\n",
       "1     4527\n",
       "3       26\n",
       "Name: count, dtype: int64"
      ]
     },
     "execution_count": 12,
     "metadata": {},
     "output_type": "execute_result"
    }
   ],
   "source": [
    "df['RemoteWork'].value_counts()"
   ]
  },
  {
   "cell_type": "code",
   "execution_count": null,
   "id": "e943c07b",
   "metadata": {},
   "outputs": [],
   "source": []
  }
 ],
 "metadata": {
  "kernelspec": {
   "display_name": "Python 3 (ipykernel)",
   "language": "python",
   "name": "python3"
  },
  "language_info": {
   "codemirror_mode": {
    "name": "ipython",
    "version": 3
   },
   "file_extension": ".py",
   "mimetype": "text/x-python",
   "name": "python",
   "nbconvert_exporter": "python",
   "pygments_lexer": "ipython3",
   "version": "3.10.11"
  }
 },
 "nbformat": 4,
 "nbformat_minor": 5
}
